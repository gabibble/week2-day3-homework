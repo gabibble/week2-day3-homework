{
 "cells": [
  {
   "cell_type": "markdown",
   "metadata": {},
   "source": [
    "# Dictionaries, Sets, & Importing Modules"
   ]
  },
  {
   "cell_type": "markdown",
   "metadata": {},
   "source": [
    "## Tasks Today:\n",
    "\n",
    "1) Dictionary <br>\n",
    " &nbsp;&nbsp;&nbsp;&nbsp; a) Declaring (key, value) <br>\n",
    " &nbsp;&nbsp;&nbsp;&nbsp; b) Accessing Values <br>\n",
    " &nbsp;&nbsp;&nbsp;&nbsp; ------ Exercise #1 - Print the eye color of each person in a double nested dict <br>\n",
    " &nbsp;&nbsp;&nbsp;&nbsp; c) Adding New Pairs <br>\n",
    " &nbsp;&nbsp;&nbsp;&nbsp; d) Modifying Values <br>\n",
    " &nbsp;&nbsp;&nbsp;&nbsp; e) Removing Key, Value Pairs <br>\n",
    " &nbsp;&nbsp;&nbsp;&nbsp; f) Looping a Dictionary <br>\n",
    " &nbsp;&nbsp;&nbsp;&nbsp; g) Looping Only Keys <br>\n",
    " &nbsp;&nbsp;&nbsp;&nbsp; h) Looping Only Values <br>\n",
    " &nbsp;&nbsp;&nbsp;&nbsp; ------ Exercise #2 - Create a Function that Prints All Key Value Pairs within a print .format()  <br>\n",
    " &nbsp;&nbsp;&nbsp;&nbsp; i) sorted() <br>\n",
    " &nbsp;&nbsp;&nbsp;&nbsp; j) Lists with Dictionaries <br>\n",
    " &nbsp;&nbsp;&nbsp;&nbsp; k) Dictionaries with Lists <br>\n",
    " &nbsp;&nbsp;&nbsp;&nbsp; l) Dictionaries with Dictionaries <br>\n",
    " &nbsp;&nbsp;&nbsp;&nbsp; ------ Exercise #3 - Write a Function that asks someone's name and address, and then stores that into a dictionary, which prints all names and addresses after they're done putting information in...  <br>\n",
    "2) Dictionaries vs. Lists (over time)<br>\n",
    "3) Set <br>\n",
    " &nbsp;&nbsp;&nbsp;&nbsp; a) Declaring <br>\n",
    " &nbsp;&nbsp;&nbsp;&nbsp; b) .add() <br>\n",
    " &nbsp;&nbsp;&nbsp;&nbsp; c) .remove() <br>\n",
    " &nbsp;&nbsp;&nbsp;&nbsp; d) .union() <br>\n",
    " &nbsp;&nbsp;&nbsp;&nbsp; e) .intersection() <br>\n",
    " &nbsp;&nbsp;&nbsp;&nbsp; f) .difference() <br>\n",
    " &nbsp;&nbsp;&nbsp;&nbsp; g) Frozen Set <br>\n",
    "4) Modules <br>\n",
    " &nbsp;&nbsp;&nbsp;&nbsp; a) Importing Entire Modules <br>\n",
    " &nbsp;&nbsp;&nbsp;&nbsp; b) Importing Methods Only <br>\n",
    " &nbsp;&nbsp;&nbsp;&nbsp; c) Using the 'as' Keyword <br>\n",
    " &nbsp;&nbsp;&nbsp;&nbsp; d) Creating a Module <br>\n",
    "5) Exercises <br>\n",
    " &nbsp;&nbsp;&nbsp;&nbsp; a) Build a Shopping Cart <br>\n",
    " &nbsp;&nbsp;&nbsp;&nbsp; b) Create Your Own Module <br>"
   ]
  },
  {
   "cell_type": "markdown",
   "metadata": {},
   "source": [
    "## Dictionary <br>\n",
    "<p>A collection of data with 'key:value' pairs. Dictionaries are ordered as of Python 3.6</p>"
   ]
  },
  {
   "cell_type": "markdown",
   "metadata": {},
   "source": [
    "##### Declaring (key, value)"
   ]
  },
  {
   "cell_type": "code",
   "execution_count": 1,
   "metadata": {},
   "outputs": [],
   "source": [
    "# keys should be unique\n",
    "# can use numbers or strings as keys\n",
    "\n",
    "d_1={}\n",
    "d_2=dict()\n",
    "\n",
    "d_3={\"tom\": \"cat\", \"jerry\":\"cat\"}\n",
    "\n",
    "\n",
    "\n"
   ]
  },
  {
   "cell_type": "markdown",
   "metadata": {},
   "source": [
    "##### Accessing Values"
   ]
  },
  {
   "cell_type": "code",
   "execution_count": 2,
   "metadata": {},
   "outputs": [
    {
     "name": "stdout",
     "output_type": "stream",
     "text": [
      "cat\n"
     ]
    }
   ],
   "source": [
    "print(d_3[\"jerry\"])\n",
    "\n",
    "\n"
   ]
  },
  {
   "cell_type": "markdown",
   "metadata": {},
   "source": [
    "## In-Class Exercise #1 - Print a formatted statement from the dictionary below <br>\n",
    "<p>The output should be '2018 Chevrolet Silverado'</p>"
   ]
  },
  {
   "cell_type": "code",
   "execution_count": 3,
   "metadata": {},
   "outputs": [
    {
     "name": "stdout",
     "output_type": "stream",
     "text": [
      "Your truck is a 2018 Chevrolet Silverado. It's fine, I guess.\n"
     ]
    }
   ],
   "source": [
    "# use the dict below\n",
    "truck = {\n",
    "    \"year\": 2018,\n",
    "    'make': 'Chevrolet',\n",
    "    'model': 'Silverado'\n",
    "}\n",
    "\n",
    "print(f\"Your truck is a {truck['year']} {truck['make']} {truck['model']}. It's fine, I guess.\")"
   ]
  },
  {
   "cell_type": "markdown",
   "metadata": {},
   "source": [
    "##### Adding New Pairs"
   ]
  },
  {
   "cell_type": "code",
   "execution_count": 4,
   "metadata": {},
   "outputs": [
    {
     "name": "stdout",
     "output_type": "stream",
     "text": [
      "{'tom': 'cat', 'jerry': 'cat', 'franny': 'dog'}\n"
     ]
    }
   ],
   "source": [
    "d_3['franny'] = \"dog\"\n",
    "\n",
    "print(d_3)\n",
    "\n"
   ]
  },
  {
   "cell_type": "markdown",
   "metadata": {},
   "source": [
    "##### Modifying Values"
   ]
  },
  {
   "cell_type": "code",
   "execution_count": 5,
   "metadata": {},
   "outputs": [
    {
     "name": "stdout",
     "output_type": "stream",
     "text": [
      "{'tom': 'cat', 'jerry': 'cat', 'franny': 'cutest dog'}\n",
      "{'tom': 'cat', 'jerry': 'cat', 'franny': 'best dog'}\n",
      "{'tom': 'cat', 'jerry': 'cat', 'franny': 'best dog', 'vinny': 'good dog'}\n"
     ]
    }
   ],
   "source": [
    "d_3['franny'] = \"cutest \" + d_3['franny']\n",
    "\n",
    "print(d_3)\n",
    "\n",
    "d_3['franny'] = \"best dog\"\n",
    "\n",
    "print(d_3)\n",
    "\n",
    "d_3['vinny'] = \"good dog\"\n",
    "\n",
    "print(d_3)\n"
   ]
  },
  {
   "cell_type": "markdown",
   "metadata": {},
   "source": [
    "##### Removing Key, Value Pairs"
   ]
  },
  {
   "cell_type": "code",
   "execution_count": 6,
   "metadata": {},
   "outputs": [
    {
     "name": "stdout",
     "output_type": "stream",
     "text": [
      "{'tom': 'cat', 'jerry': 'cat', 'franny': 'best dog'}\n"
     ]
    }
   ],
   "source": [
    "del d_3['vinny']\n",
    "\n",
    "print(d_3)\n",
    "\n"
   ]
  },
  {
   "cell_type": "markdown",
   "metadata": {},
   "source": [
    "##### Looping a Dictionary"
   ]
  },
  {
   "cell_type": "code",
   "execution_count": 7,
   "metadata": {},
   "outputs": [
    {
     "name": "stdout",
     "output_type": "stream",
     "text": [
      "tom is a cat\n",
      "jerry is a cat\n",
      "franny is a best dog\n"
     ]
    }
   ],
   "source": [
    "# .items()\n",
    "# a, b, c = 1, 2, 3\n",
    "\n",
    "for name, animal in d_3.items():\n",
    "    print(name + \" is a \" +animal)\n"
   ]
  },
  {
   "cell_type": "markdown",
   "metadata": {},
   "source": [
    "##### Looping Only Keys"
   ]
  },
  {
   "cell_type": "code",
   "execution_count": 8,
   "metadata": {},
   "outputs": [],
   "source": [
    "# .keys()\n"
   ]
  },
  {
   "cell_type": "markdown",
   "metadata": {},
   "source": [
    "##### Looping Only Values"
   ]
  },
  {
   "cell_type": "code",
   "execution_count": null,
   "metadata": {},
   "outputs": [],
   "source": []
  },
  {
   "cell_type": "code",
   "execution_count": null,
   "metadata": {
    "scrolled": false
   },
   "outputs": [],
   "source": []
  },
  {
   "cell_type": "code",
   "execution_count": 9,
   "metadata": {
    "scrolled": true
   },
   "outputs": [],
   "source": [
    "# .values()\n"
   ]
  },
  {
   "cell_type": "markdown",
   "metadata": {},
   "source": [
    "## In-Class Exercise #2 - Create a Function that Prints All Key Value Pairs within a print .format() <br>\n",
    "<p><b>Output should be:</b><br>\n",
    "Max has blue eyes<br>\n",
    "Lilly has brown eyes<br>\n",
    "Barney has blue eyes<br>\n",
    "etc.\n",
    "</p>"
   ]
  },
  {
   "cell_type": "code",
   "execution_count": 10,
   "metadata": {},
   "outputs": [
    {
     "name": "stdout",
     "output_type": "stream",
     "text": [
      "Max has blue eyes!\n",
      "Lilly has brown eyes!\n",
      "Barney has blue eyes!\n",
      "Larney has brown eyes!\n",
      "Ted has purple eyes!\n",
      "Sasuke has sharingan eyes!\n",
      "franny has the cutest big brown eyes!\n",
      "Max has blue eyes!\n",
      "Lilly has brown eyes!\n",
      "Barney has blue eyes!\n",
      "Larney has brown eyes!\n",
      "Ted has purple eyes!\n",
      "Sasuke has sharingan eyes!\n",
      "franny has the cutest big brown eyes!\n",
      "[None, None, None, None, None, None, None]\n"
     ]
    }
   ],
   "source": [
    "people = {\n",
    "    'Max': 'blue',\n",
    "    'Lilly': 'brown',\n",
    "    'Barney': 'blue',\n",
    "    'Larney': 'brown',\n",
    "    'Ted': 'purple',\n",
    "    \"Sasuke\": \"sharingan\",\n",
    "    \"franny\": \"the cutest big brown\"\n",
    "}\n",
    "\n",
    "for person, color in people.items():\n",
    "    print(\"{} has {} eyes!\".format(person, color))\n",
    "    \n",
    "print([print(f\"{person} has {color} eyes!\") for person, color in people.items()])\n",
    "   "
   ]
  },
  {
   "cell_type": "markdown",
   "metadata": {},
   "source": [
    "##### sorted()"
   ]
  },
  {
   "cell_type": "code",
   "execution_count": 11,
   "metadata": {},
   "outputs": [],
   "source": [
    "# sorts variables in order\n",
    "# sorted(dict.values()) or dict.keys() or dict.items()\n"
   ]
  },
  {
   "cell_type": "markdown",
   "metadata": {},
   "source": [
    "##### List with Dictionaries"
   ]
  },
  {
   "cell_type": "code",
   "execution_count": 12,
   "metadata": {},
   "outputs": [
    {
     "name": "stdout",
     "output_type": "stream",
     "text": [
      "rob\n",
      "some_lady\n",
      "some_guy\n"
     ]
    }
   ],
   "source": [
    "names = [\"dave\",\"sandy\",{\"some_lady\":\"barb\", \"some_guy\":\"rob\"} ]\n",
    "\n",
    "print(names[2][\"some_guy\"])\n",
    "\n",
    "for key in names[2].keys():\n",
    "    print(key)"
   ]
  },
  {
   "cell_type": "markdown",
   "metadata": {},
   "source": [
    "##### Dictionaries with Lists"
   ]
  },
  {
   "cell_type": "code",
   "execution_count": 13,
   "metadata": {},
   "outputs": [
    {
     "name": "stdout",
     "output_type": "stream",
     "text": [
      "\n"
     ]
    }
   ],
   "source": [
    "# be careful when using numbers as keys in dictionaries, don't confuse them with indexes\n",
    "\n",
    "random_data = {\"list_1\":[54,69,90], \"2\":[\"johnson\"]}\n",
    "\n",
    "print()"
   ]
  },
  {
   "cell_type": "markdown",
   "metadata": {},
   "source": [
    "##### Dictionaries with Dictionaries"
   ]
  },
  {
   "cell_type": "code",
   "execution_count": 14,
   "metadata": {},
   "outputs": [
    {
     "name": "stdout",
     "output_type": "stream",
     "text": [
      "{'Ryan': {'mexican': ['Tacos', 'Tacos', 'Tacos', 'Torta'], 'noodles': ['Ramen', 'shell', 'ravioli'], 'desserts': ['pie', 'chocolate chip ice cream', 'cheesecake']}, 'Alex': {'hispanic': ['Pupusas', 'Tamales', 'Arepas'], 'italian': ['Lasagna', 'Spaghetti', 'Pizza'], 'sweets': ['Ice Cream', 'Canolis', 'Soufle']}, 'Saad': {'italian': ['pasta', 'pizza', 'seafood'], 'pizza': ['plain', 'margarita', 'pineapple', 'chicken']}, 'Beck': {'japanese': ['sushi', 'ramen', 'dumplings'], 'desserts': ['cookie dough', 'ice cream', 'cheesecake'], 'italian': ['pizza', 'pasta', 'gelato']}, 'Dylan': {'Asian': ['Pho', 'Korean Beef', 'Gyoza', 'Sushi', 'Ramen'], 'Mexican': ['Tacos', 'Poblano Peppers', 'Tamales'], 'Italian': ['Pizza', 'Spaghetti']}, 'Julia': {'italian': ['pizza', 'bolognese'], 'vietnamese': ['bhan mi', 'pho'], 'mexican': ['tacos al pastor', 'tortas']}, 'Cecilia': {'breakfast': ['pancakes', 'bacon', 'hashbrowns', 'eggs'], 'bbq': ['ribs', 'brisket', 'pulled pork', 'wings'], 'pie': ['strawberry rhubarb', 'peanut butter', 'pumpkin']}, 'Badar': {'Desert': ['Jello', 'Cookies', 'Pie'], 'Lunch': ['Turkey Sandwich', 'Pizza', 'Deli']}, 'Nick': {'Italian': ['Pizza', 'Pasta', 'Bolognese'], 'Hispanic': ['Bolon de queso', 'Chilaquiles', 'encebollado'], 'Asian': ['Ramen', 'More Ramen', 'Sushi', 'Also Ramen']}, 'Jason': {'italian': ['pizza', 'bbq', 'chinese']}, 'Chris': {'sushi': ['roll', 'sushimi', 'nigiri'], 'dessert': ['chocolate', 'brownie', 'thinmints']}}\n"
     ]
    }
   ],
   "source": [
    "food_dict = {\n",
    "    \"Ryan\": {\n",
    "    \"mexican\": [\"Tacos\", \"Tacos\", \"Tacos\", \"Torta\"],\n",
    "    \"noodles\": [\"Ramen\", \"shell\", \"ravioli\"],\n",
    "     \"desserts\": [\"pie\", \"chocolate chip ice cream\", \"cheesecake\"]   \n",
    "},\n",
    "    'Alex': {\n",
    "    'hispanic': ['Pupusas', 'Tamales', 'Arepas'],\n",
    "    'italian' : ['Lasagna', 'Spaghetti', 'Pizza'],\n",
    "    'sweets': ['Ice Cream', 'Canolis', 'Soufle']\n",
    "},\n",
    "    \"Saad\": {\n",
    "    \"italian\": [\"pasta\", \"pizza\", \"seafood\"],\n",
    "    \"pizza\": [\"plain\", \"margarita\", \"pineapple\", \"chicken\"]\n",
    "},\n",
    "    \"Beck\": {\n",
    "        \"japanese\" : [\"sushi\", \"ramen\", \"dumplings\"],\n",
    "        \"desserts\" : [\"cookie dough\", \"ice cream\", \"cheesecake\"],\n",
    "        \"italian\" : [\"pizza\", \"pasta\", \"gelato\"]\n",
    "\n",
    "    },\n",
    "    \"Dylan\":{\n",
    "        \"Asian\":[\"Pho\", \"Korean Beef\", \"Gyoza\", \"Sushi\", \"Ramen\"],\n",
    "        \"Mexican\":[\"Tacos\", \"Poblano Peppers\", \"Tamales\"],\n",
    "        \"Italian\":[\"Pizza\", \"Spaghetti\"],\n",
    "    },\n",
    "    \"Julia\": {\n",
    "    \"italian\":[\"pizza\", \"bolognese\"],\n",
    "    \"vietnamese\":[\"bhan mi\", \"pho\"],\n",
    "    \"mexican\":[\"tacos al pastor\", \"tortas\"]\n",
    "},\n",
    "    \"Cecilia\": {\n",
    "    \"breakfast\": [\"pancakes\", \"bacon\", \"hashbrowns\", \"eggs\"],\n",
    "    \"bbq\": [\"ribs\", \"brisket\", \"pulled pork\", \"wings\"],\n",
    "    \"pie\": [\"strawberry rhubarb\", \"peanut butter\", \"pumpkin\"]\n",
    "},\n",
    "    \"Badar\": {\n",
    "        \"Desert\": [\"Jello\", \"Cookies\", \"Pie\"],\n",
    "        \"Lunch\": [\"Turkey Sandwich\", \"Pizza\", \"Deli\"]\n",
    "},\n",
    "    \"Nick\":{\n",
    "        \"Italian\":[\"Pizza\", \"Pasta\", \"Bolognese\"],\n",
    "        \"Hispanic\":[\"Bolon de queso\", \"Chilaquiles\", \"encebollado\"],\n",
    "        \"Asian\":[\"Ramen\", \"More Ramen\", \"Sushi\", \"Also Ramen\"]\n",
    "},\n",
    "    \"Jason\":\n",
    "    {\"italian\": [\"pizza\",  \"bbq\",  \"chinese\"]},\n",
    "    \n",
    "     \"Chris\": {\n",
    "        \"sushi\": ['roll', 'sushimi', 'nigiri'],\n",
    "        \"dessert\": ['chocolate', 'brownie', 'thinmints']\n",
    "}\n",
    "\n",
    "}\n",
    "\n",
    "print(food_dict)\n"
   ]
  },
  {
   "cell_type": "code",
   "execution_count": 15,
   "metadata": {},
   "outputs": [
    {
     "name": "stdout",
     "output_type": "stream",
     "text": [
      "pancakes\n",
      "bacon\n",
      "hashbrowns\n",
      "eggs\n",
      "nick really likes Ramen\n",
      "Nick's favorite asian foods are Ramen, More Ramen, Sushi, Also Ramen, and also Ramen!\n",
      "\n",
      "Ryan likes {'mexican': ['Tacos', 'Tacos', 'Tacos', 'Torta'], 'noodles': ['Ramen', 'shell', 'ravioli'], 'desserts': ['pie', 'chocolate chip ice cream', 'cheesecake']}\n",
      "Alex likes {'hispanic': ['Pupusas', 'Tamales', 'Arepas'], 'italian': ['Lasagna', 'Spaghetti', 'Pizza'], 'sweets': ['Ice Cream', 'Canolis', 'Soufle']}\n",
      "Saad likes {'italian': ['pasta', 'pizza', 'seafood'], 'pizza': ['plain', 'margarita', 'pineapple', 'chicken']}\n",
      "Beck likes {'japanese': ['sushi', 'ramen', 'dumplings'], 'desserts': ['cookie dough', 'ice cream', 'cheesecake'], 'italian': ['pizza', 'pasta', 'gelato']}\n",
      "Dylan likes {'Asian': ['Pho', 'Korean Beef', 'Gyoza', 'Sushi', 'Ramen'], 'Mexican': ['Tacos', 'Poblano Peppers', 'Tamales'], 'Italian': ['Pizza', 'Spaghetti']}\n",
      "Julia likes {'italian': ['pizza', 'bolognese'], 'vietnamese': ['bhan mi', 'pho'], 'mexican': ['tacos al pastor', 'tortas']}\n",
      "Cecilia likes {'breakfast': ['pancakes', 'bacon', 'hashbrowns', 'eggs'], 'bbq': ['ribs', 'brisket', 'pulled pork', 'wings'], 'pie': ['strawberry rhubarb', 'peanut butter', 'pumpkin']}\n",
      "Badar likes {'Desert': ['Jello', 'Cookies', 'Pie'], 'Lunch': ['Turkey Sandwich', 'Pizza', 'Deli']}\n",
      "Nick likes {'Italian': ['Pizza', 'Pasta', 'Bolognese'], 'Hispanic': ['Bolon de queso', 'Chilaquiles', 'encebollado'], 'Asian': ['Ramen', 'More Ramen', 'Sushi', 'Also Ramen']}\n",
      "Jason likes {'italian': ['pizza', 'bbq', 'chinese']}\n",
      "Chris likes {'sushi': ['roll', 'sushimi', 'nigiri'], 'dessert': ['chocolate', 'brownie', 'thinmints']}\n",
      "Ryan likes Tacos, Tacos, Ramen, shell, pie, chocolate chip ice cream, and more!\n",
      "Alex likes Pupusas, Tamales, Lasagna, Spaghetti, Ice Cream, Canolis, and more!\n",
      "Saad likes pasta, pizza, plain, margarita, and more!\n",
      "Beck likes sushi, ramen, cookie dough, ice cream, pizza, pasta, and more!\n",
      "Dylan likes Pho, Korean Beef, Tacos, Poblano Peppers, Pizza, Spaghetti, and more!\n",
      "Julia likes pizza, bolognese, bhan mi, pho, tacos al pastor, tortas, and more!\n",
      "Cecilia likes pancakes, bacon, ribs, brisket, strawberry rhubarb, peanut butter, and more!\n",
      "Badar likes Jello, Cookies, Turkey Sandwich, Pizza, and more!\n",
      "Nick likes Pizza, Pasta, Bolon de queso, Chilaquiles, Ramen, More Ramen, and more!\n",
      "Jason likes pizza, bbq, and more!\n",
      "Chris likes roll, sushimi, chocolate, brownie, and more!\n"
     ]
    }
   ],
   "source": [
    "for foods in food_dict[\"Cecilia\"][\"breakfast\"]:\n",
    "    print(foods)\n",
    "    \n",
    "  \n",
    "print(f\"nick really likes {food_dict['Nick']['Asian'][0]}\")\n",
    "    \n",
    "print(\"Nick's favorite asian foods are \", end=\"\")    \n",
    "for food in food_dict[\"Nick\"][\"Asian\"]:\n",
    "    print(food, end=\", \")\n",
    "print(\"and also Ramen!\\n\")\n",
    "\n",
    "for person, foods in food_dict.items():\n",
    "    print(person + \" likes \", end =\"\")\n",
    "    print(foods)\n",
    "\n",
    "for person, foods in food_dict.items():\n",
    "    print(person + \" likes \", end =\"\")\n",
    "    for favfoods in foods.values():\n",
    "        print (favfoods[0]+ \", \"+favfoods[1]+\", \",end =\"\")\n",
    "    print(\"and more!\")\n",
    "    \n"
   ]
  },
  {
   "cell_type": "code",
   "execution_count": null,
   "metadata": {},
   "outputs": [],
   "source": []
  },
  {
   "cell_type": "markdown",
   "metadata": {},
   "source": [
    "## Dictionaries vs. Lists (over time) Example of RUNTIME\n",
    "### When inputting values in a Dictionary vs List"
   ]
  },
  {
   "cell_type": "code",
   "execution_count": null,
   "metadata": {},
   "outputs": [],
   "source": []
  },
  {
   "cell_type": "code",
   "execution_count": null,
   "metadata": {},
   "outputs": [],
   "source": []
  },
  {
   "cell_type": "markdown",
   "metadata": {},
   "source": [
    "## Exercise #3 - Write a Function that asks someone's name and address, and then stores that into a dictionary, and continues to do so until they choose to 'quit'. Once they quit, the program should print all names and addresses. <br>\n",
    "<p>\n",
    "<b>Proper steps:</b><br>\n",
    "step 1: write a function that takes in information and stores it in a dictionary<br>\n",
    "step 2: define an empty dictionary to work with<br>\n",
    "step 3: create our loop, which asks the user for information until they quit<br>\n",
    "step 4: ask for the information, and store it into variables<br>\n",
    "step 5: check if the user types quit<br>\n",
    "step 5a: print out all information<br>\n",
    "step 5b: break out of the loop<br>\n",
    "step 6: if they didn't quit, add the information to the dictionary<br>\n",
    "step 7: invoke the function by calling it\n",
    "</p>"
   ]
  },
  {
   "cell_type": "code",
   "execution_count": 16,
   "metadata": {},
   "outputs": [
    {
     "ename": "KeyboardInterrupt",
     "evalue": "Interrupted by user",
     "output_type": "error",
     "traceback": [
      "\u001b[0;31m---------------------------------------------------------------------------\u001b[0m",
      "\u001b[0;31mKeyboardInterrupt\u001b[0m                         Traceback (most recent call last)",
      "\u001b[1;32m/Users/juliagiebultowicz/Documents/webDev/codingTemple/coding_temple_rangers_97/week_2/day3/week2_day3_homework/Wednesday_Lesson_Inclass-Updated-Lecture_Rangers87.ipynb Cell 40\u001b[0m in \u001b[0;36m<cell line: 17>\u001b[0;34m()\u001b[0m\n\u001b[1;32m     <a href='vscode-notebook-cell:/Users/juliagiebultowicz/Documents/webDev/codingTemple/coding_temple_rangers_97/week_2/day3/week2_day3_homework/Wednesday_Lesson_Inclass-Updated-Lecture_Rangers87.ipynb#X54sZmlsZQ%3D%3D?line=12'>13</a>\u001b[0m             \u001b[39mbreak\u001b[39;00m\n\u001b[1;32m     <a href='vscode-notebook-cell:/Users/juliagiebultowicz/Documents/webDev/codingTemple/coding_temple_rangers_97/week_2/day3/week2_day3_homework/Wednesday_Lesson_Inclass-Updated-Lecture_Rangers87.ipynb#X54sZmlsZQ%3D%3D?line=14'>15</a>\u001b[0m         d[name] \u001b[39m=\u001b[39m address\n\u001b[0;32m---> <a href='vscode-notebook-cell:/Users/juliagiebultowicz/Documents/webDev/codingTemple/coding_temple_rangers_97/week_2/day3/week2_day3_homework/Wednesday_Lesson_Inclass-Updated-Lecture_Rangers87.ipynb#X54sZmlsZQ%3D%3D?line=16'>17</a>\u001b[0m storeInfo()\n",
      "\u001b[1;32m/Users/juliagiebultowicz/Documents/webDev/codingTemple/coding_temple_rangers_97/week_2/day3/week2_day3_homework/Wednesday_Lesson_Inclass-Updated-Lecture_Rangers87.ipynb Cell 40\u001b[0m in \u001b[0;36mstoreInfo\u001b[0;34m()\u001b[0m\n\u001b[1;32m      <a href='vscode-notebook-cell:/Users/juliagiebultowicz/Documents/webDev/codingTemple/coding_temple_rangers_97/week_2/day3/week2_day3_homework/Wednesday_Lesson_Inclass-Updated-Lecture_Rangers87.ipynb#X54sZmlsZQ%3D%3D?line=4'>5</a>\u001b[0m d \u001b[39m=\u001b[39m {}\n\u001b[1;32m      <a href='vscode-notebook-cell:/Users/juliagiebultowicz/Documents/webDev/codingTemple/coding_temple_rangers_97/week_2/day3/week2_day3_homework/Wednesday_Lesson_Inclass-Updated-Lecture_Rangers87.ipynb#X54sZmlsZQ%3D%3D?line=5'>6</a>\u001b[0m \u001b[39mwhile\u001b[39;00m \u001b[39mTrue\u001b[39;00m:\n\u001b[0;32m----> <a href='vscode-notebook-cell:/Users/juliagiebultowicz/Documents/webDev/codingTemple/coding_temple_rangers_97/week_2/day3/week2_day3_homework/Wednesday_Lesson_Inclass-Updated-Lecture_Rangers87.ipynb#X54sZmlsZQ%3D%3D?line=6'>7</a>\u001b[0m     name \u001b[39m=\u001b[39m \u001b[39minput\u001b[39;49m(\u001b[39m\"\u001b[39;49m\u001b[39menter your name: (if you are finished, type \u001b[39;49m\u001b[39m'\u001b[39;49m\u001b[39mQ\u001b[39;49m\u001b[39m'\u001b[39;49m\u001b[39m)\u001b[39;49m\u001b[39m\"\u001b[39;49m)\n\u001b[1;32m      <a href='vscode-notebook-cell:/Users/juliagiebultowicz/Documents/webDev/codingTemple/coding_temple_rangers_97/week_2/day3/week2_day3_homework/Wednesday_Lesson_Inclass-Updated-Lecture_Rangers87.ipynb#X54sZmlsZQ%3D%3D?line=7'>8</a>\u001b[0m     address \u001b[39m=\u001b[39m \u001b[39minput\u001b[39m(\u001b[39m\"\u001b[39m\u001b[39menter your address: (if you are finished, type \u001b[39m\u001b[39m'\u001b[39m\u001b[39mQ\u001b[39m\u001b[39m'\u001b[39m\u001b[39m)\u001b[39m\u001b[39m\"\u001b[39m)\n\u001b[1;32m     <a href='vscode-notebook-cell:/Users/juliagiebultowicz/Documents/webDev/codingTemple/coding_temple_rangers_97/week_2/day3/week2_day3_homework/Wednesday_Lesson_Inclass-Updated-Lecture_Rangers87.ipynb#X54sZmlsZQ%3D%3D?line=9'>10</a>\u001b[0m     \u001b[39mif\u001b[39;00m name\u001b[39m.\u001b[39mlower() \u001b[39m==\u001b[39m \u001b[39m'\u001b[39m\u001b[39mq\u001b[39m\u001b[39m'\u001b[39m \u001b[39mor\u001b[39;00m address\u001b[39m.\u001b[39mlower() \u001b[39m==\u001b[39m \u001b[39m'\u001b[39m\u001b[39mquit\u001b[39m\u001b[39m'\u001b[39m:\n",
      "File \u001b[0;32m/Library/Frameworks/Python.framework/Versions/3.10/lib/python3.10/site-packages/ipykernel/kernelbase.py:1177\u001b[0m, in \u001b[0;36mKernel.raw_input\u001b[0;34m(self, prompt)\u001b[0m\n\u001b[1;32m   1173\u001b[0m \u001b[39mif\u001b[39;00m \u001b[39mnot\u001b[39;00m \u001b[39mself\u001b[39m\u001b[39m.\u001b[39m_allow_stdin:\n\u001b[1;32m   1174\u001b[0m     \u001b[39mraise\u001b[39;00m StdinNotImplementedError(\n\u001b[1;32m   1175\u001b[0m         \u001b[39m\"\u001b[39m\u001b[39mraw_input was called, but this frontend does not support input requests.\u001b[39m\u001b[39m\"\u001b[39m\n\u001b[1;32m   1176\u001b[0m     )\n\u001b[0;32m-> 1177\u001b[0m \u001b[39mreturn\u001b[39;00m \u001b[39mself\u001b[39;49m\u001b[39m.\u001b[39;49m_input_request(\n\u001b[1;32m   1178\u001b[0m     \u001b[39mstr\u001b[39;49m(prompt),\n\u001b[1;32m   1179\u001b[0m     \u001b[39mself\u001b[39;49m\u001b[39m.\u001b[39;49m_parent_ident[\u001b[39m\"\u001b[39;49m\u001b[39mshell\u001b[39;49m\u001b[39m\"\u001b[39;49m],\n\u001b[1;32m   1180\u001b[0m     \u001b[39mself\u001b[39;49m\u001b[39m.\u001b[39;49mget_parent(\u001b[39m\"\u001b[39;49m\u001b[39mshell\u001b[39;49m\u001b[39m\"\u001b[39;49m),\n\u001b[1;32m   1181\u001b[0m     password\u001b[39m=\u001b[39;49m\u001b[39mFalse\u001b[39;49;00m,\n\u001b[1;32m   1182\u001b[0m )\n",
      "File \u001b[0;32m/Library/Frameworks/Python.framework/Versions/3.10/lib/python3.10/site-packages/ipykernel/kernelbase.py:1219\u001b[0m, in \u001b[0;36mKernel._input_request\u001b[0;34m(self, prompt, ident, parent, password)\u001b[0m\n\u001b[1;32m   1216\u001b[0m             \u001b[39mbreak\u001b[39;00m\n\u001b[1;32m   1217\u001b[0m \u001b[39mexcept\u001b[39;00m \u001b[39mKeyboardInterrupt\u001b[39;00m:\n\u001b[1;32m   1218\u001b[0m     \u001b[39m# re-raise KeyboardInterrupt, to truncate traceback\u001b[39;00m\n\u001b[0;32m-> 1219\u001b[0m     \u001b[39mraise\u001b[39;00m \u001b[39mKeyboardInterrupt\u001b[39;00m(\u001b[39m\"\u001b[39m\u001b[39mInterrupted by user\u001b[39m\u001b[39m\"\u001b[39m) \u001b[39mfrom\u001b[39;00m \u001b[39mNone\u001b[39m\n\u001b[1;32m   1220\u001b[0m \u001b[39mexcept\u001b[39;00m \u001b[39mException\u001b[39;00m:\n\u001b[1;32m   1221\u001b[0m     \u001b[39mself\u001b[39m\u001b[39m.\u001b[39mlog\u001b[39m.\u001b[39mwarning(\u001b[39m\"\u001b[39m\u001b[39mInvalid Message:\u001b[39m\u001b[39m\"\u001b[39m, exc_info\u001b[39m=\u001b[39m\u001b[39mTrue\u001b[39;00m)\n",
      "\u001b[0;31mKeyboardInterrupt\u001b[0m: Interrupted by user"
     ]
    }
   ],
   "source": [
    "from IPython.display import clear_output\n",
    "\n",
    "# Step 1\n",
    "def storeInfo():\n",
    "    d = {}\n",
    "    while True:\n",
    "        name = input(\"enter your name: (if you are finished, type 'Q')\")\n",
    "        address = input(\"enter your address: (if you are finished, type 'Q')\")\n",
    "        \n",
    "        if name.lower() == 'q' or address.lower() == 'quit':\n",
    "            for key, value in d.items():\n",
    "                print(f\"The address of {key} is {value}\")\n",
    "            break\n",
    "            \n",
    "        d[name] = address\n",
    "\n",
    "storeInfo()\n",
    "\n",
    "\n",
    "        "
   ]
  },
  {
   "cell_type": "markdown",
   "metadata": {},
   "source": [
    "## Set <br>\n",
    "<p>A Set is an unordered collection data type that is iterable (loop), mutable, and has no duplicate elements.<br>Major advantage is that it is highly optimized in checking if something is in the set, as opposed to checking if something is in a list.</p>"
   ]
  },
  {
   "cell_type": "markdown",
   "metadata": {},
   "source": [
    "##### Declaring"
   ]
  },
  {
   "cell_type": "code",
   "execution_count": null,
   "metadata": {},
   "outputs": [
    {
     "name": "stdout",
     "output_type": "stream",
     "text": [
      "{9, 2, 4, 6}\n",
      "[2, 4, 6, 9]\n",
      "4\n",
      "{1, 2, 4, 5}\n",
      "[1, 2, 4, 5]\n"
     ]
    }
   ],
   "source": [
    "# set() or {}\n",
    "# no order {3, 2, 1} outputs as {1, 2, 3}\n",
    "\n",
    "nums = {6, 4, 6, 6, 2, 9, 4}\n",
    "print(nums)\n",
    "print(sorted(nums))\n",
    "\n",
    "print(len(nums))\n",
    "\n",
    "our_list = [1, 2, 4, 4, 4, 5]\n",
    "\n",
    "our_set = set(our_list)\n",
    "print(our_set)\n",
    "print(sorted(our_set))"
   ]
  },
  {
   "cell_type": "markdown",
   "metadata": {},
   "source": [
    "##### .add()"
   ]
  },
  {
   "cell_type": "code",
   "execution_count": null,
   "metadata": {},
   "outputs": [
    {
     "name": "stdout",
     "output_type": "stream",
     "text": [
      "{2, 6, 7, 9}\n"
     ]
    },
    {
     "ename": "AttributeError",
     "evalue": "'set' object has no attribute 'append'",
     "output_type": "error",
     "traceback": [
      "\u001b[0;31m---------------------------------------------------------------------------\u001b[0m",
      "\u001b[0;31mAttributeError\u001b[0m                            Traceback (most recent call last)",
      "Input \u001b[0;32mIn [81]\u001b[0m, in \u001b[0;36m<cell line: 5>\u001b[0;34m()\u001b[0m\n\u001b[1;32m      1\u001b[0m nums\u001b[38;5;241m.\u001b[39madd(\u001b[38;5;241m7\u001b[39m)\n\u001b[1;32m      3\u001b[0m \u001b[38;5;28mprint\u001b[39m(nums)\n\u001b[0;32m----> 5\u001b[0m \u001b[43mnums\u001b[49m\u001b[38;5;241;43m.\u001b[39;49m\u001b[43mappend\u001b[49m(\u001b[38;5;241m7\u001b[39m)\n\u001b[1;32m      7\u001b[0m \u001b[38;5;28mprint\u001b[39m(nums)\n",
      "\u001b[0;31mAttributeError\u001b[0m: 'set' object has no attribute 'append'"
     ]
    }
   ],
   "source": [
    "nums.add(7)\n",
    "print(nums)\n"
   ]
  },
  {
   "cell_type": "markdown",
   "metadata": {},
   "source": [
    "##### .remove()"
   ]
  },
  {
   "cell_type": "code",
   "execution_count": null,
   "metadata": {},
   "outputs": [
    {
     "name": "stdout",
     "output_type": "stream",
     "text": [
      "{2, 6, 7, 9}\n"
     ]
    }
   ],
   "source": [
    "nums.remove(4)\n",
    "print(nums)\n"
   ]
  },
  {
   "cell_type": "markdown",
   "metadata": {},
   "source": [
    "##### .union() "
   ]
  },
  {
   "cell_type": "code",
   "execution_count": null,
   "metadata": {},
   "outputs": [
    {
     "name": "stdout",
     "output_type": "stream",
     "text": [
      "{1, 2, 3, 4, 5, 6}\n",
      "{1, 2, 3, 4, 5, 6}\n"
     ]
    }
   ],
   "source": [
    "# Returns a union of two sets, can also use '|' or set.union(set)\n",
    "# joins all numbers, gets rid of duplicates\n",
    "\n",
    "s1 = {1, 2, 3, 4}\n",
    "s2 = {3, 4, 5, 6}\n",
    "\n",
    "s3 = s1.union(s2)\n",
    "s4 = s1 | s2\n",
    "\n",
    "print(s3)\n",
    "print(s4)"
   ]
  },
  {
   "cell_type": "markdown",
   "metadata": {},
   "source": [
    "##### .intersection()"
   ]
  },
  {
   "cell_type": "code",
   "execution_count": null,
   "metadata": {},
   "outputs": [
    {
     "name": "stdout",
     "output_type": "stream",
     "text": [
      "{3, 4}\n",
      "{3, 4}\n"
     ]
    }
   ],
   "source": [
    "# Returns an intersection of two sets, can also use '&'\n",
    "# only takes similar elements from both sets\n",
    "\n",
    "s1 = {1, 2, 3, 4}\n",
    "s2 = {3, 4, 5, 6}\n",
    "\n",
    "s5 = s1.intersection(s2)\n",
    "s6 = s1 & s2\n",
    "\n",
    "print(s5)\n",
    "print(s6)"
   ]
  },
  {
   "cell_type": "markdown",
   "metadata": {},
   "source": [
    "##### .difference()"
   ]
  },
  {
   "cell_type": "code",
   "execution_count": null,
   "metadata": {},
   "outputs": [
    {
     "name": "stdout",
     "output_type": "stream",
     "text": [
      "{5, 6}\n",
      "{1, 2}\n"
     ]
    }
   ],
   "source": [
    "# Returns a set containing all the elements of invoking set that are not in the second set, can also use '-'\n",
    "# only takes values from the first set that are not in the second set\n",
    "# order matters\n",
    "\n",
    "s1 = {1, 2, 3, 4}\n",
    "s2 = {3, 4, 5, 6}\n",
    "\n",
    "s7 = s1.difference(s2)\n",
    "s8 = s2 - s1\n",
    "\n",
    "print(s8)\n",
    "print(s7)\n",
    "\n"
   ]
  },
  {
   "cell_type": "markdown",
   "metadata": {},
   "source": [
    "##### .clear()"
   ]
  },
  {
   "cell_type": "code",
   "execution_count": null,
   "metadata": {},
   "outputs": [
    {
     "name": "stdout",
     "output_type": "stream",
     "text": [
      "set()\n"
     ]
    }
   ],
   "source": [
    "# Empties the whole set\n",
    "# set.clear()\n",
    "\n",
    "s2.clear()\n",
    "print(s2)\n"
   ]
  },
  {
   "cell_type": "code",
   "execution_count": null,
   "metadata": {},
   "outputs": [],
   "source": []
  },
  {
   "cell_type": "markdown",
   "metadata": {},
   "source": [
    "##### Frozenset <br>\n",
    "<p>Frozen sets are immutable objects that only support methods and operators that produce a result without affecting the frozen set or sets to which they are applied.</p><br><b>Unique & Immutable</b>"
   ]
  },
  {
   "cell_type": "code",
   "execution_count": null,
   "metadata": {},
   "outputs": [],
   "source": [
    "# frozenset([])\n",
    "\n",
    "my_frozen_set = frozenset(s1)\n",
    "\n",
    "\n"
   ]
  },
  {
   "cell_type": "markdown",
   "metadata": {},
   "source": [
    "## Modules"
   ]
  },
  {
   "cell_type": "markdown",
   "metadata": {},
   "source": [
    "##### Importing Entire Modules"
   ]
  },
  {
   "cell_type": "code",
   "execution_count": null,
   "metadata": {},
   "outputs": [
    {
     "name": "stdout",
     "output_type": "stream",
     "text": [
      "3.141592653589793\n",
      "4\n",
      "3\n"
     ]
    }
   ],
   "source": [
    "# import \n",
    "# or \n",
    "# from 'xxx' import *\n",
    "\n",
    "import math \n",
    "print(math.pi)\n",
    "print(math.ceil(math.pi))\n",
    "print(math.floor(math.pi))\n",
    "\n",
    "\n"
   ]
  },
  {
   "cell_type": "markdown",
   "metadata": {},
   "source": [
    "##### Importing Methods Only"
   ]
  },
  {
   "cell_type": "code",
   "execution_count": null,
   "metadata": {},
   "outputs": [
    {
     "name": "stdout",
     "output_type": "stream",
     "text": [
      "5\n"
     ]
    }
   ],
   "source": [
    "# from 'xxx' import 'xxx'\n",
    "# from math import floor\n",
    "\n",
    "from math import floor\n",
    "\n",
    "print(floor(5.7))"
   ]
  },
  {
   "cell_type": "markdown",
   "metadata": {},
   "source": [
    "##### Using the 'as' Keyword"
   ]
  },
  {
   "cell_type": "code",
   "execution_count": null,
   "metadata": {},
   "outputs": [
    {
     "name": "stdout",
     "output_type": "stream",
     "text": [
      "6\n"
     ]
    }
   ],
   "source": [
    "# from 'xxx' import 'xxx' as 'xxx' or import 'xxx' as 'xxx'\n",
    "# from math import floor as f\n",
    "\n",
    "from math import ceil as c\n",
    "\n",
    "print(c(5.7))\n"
   ]
  },
  {
   "cell_type": "markdown",
   "metadata": {},
   "source": [
    "##### Creating a Module"
   ]
  },
  {
   "cell_type": "code",
   "execution_count": null,
   "metadata": {},
   "outputs": [],
   "source": [
    "from module import printName as pn\n",
    "\n",
    "\n",
    "\n"
   ]
  },
  {
   "cell_type": "markdown",
   "metadata": {},
   "source": [
    "# Exercises"
   ]
  },
  {
   "cell_type": "markdown",
   "metadata": {},
   "source": [
    "### 1) Build a Shopping Cart <br>\n",
    "<p><b>You can use either lists or dictionaries. The program should have the following capabilities:</b><br><br>\n",
    "1) Takes in input <br>\n",
    "2) Stores user input into a dictionary or list <br>\n",
    "3) The User can add or delete items <br>\n",
    "4) The User can see current shopping list <br>\n",
    "5) The program Loops until user 'quits' <br>\n",
    "6) Upon quiting the program, print out all items in the user's list <br>\n",
    "</p>"
   ]
  },
  {
   "cell_type": "code",
   "execution_count": null,
   "metadata": {},
   "outputs": [
    {
     "name": "stdout",
     "output_type": "stream",
     "text": [
      "\n",
      "* * * * FIVE DOLLAR FRIDAY * * * * \n",
      "Use coupon code 'ALEXRULES' to get all items for $5. (regular price: $10)\n",
      "\n",
      "\n",
      "\n",
      "Welcome to Julia's shop. \n",
      "\tEnter the items you would like to purchase. \n",
      "\tEnter 'Show' to see your current list. \n",
      "\tEnter 'Delete' to remove a single item. \n",
      "\tEnter 'Finish' to finish adding items and proceed to check out.\n",
      "\n"
     ]
    }
   ],
   "source": [
    "from IPython.display import clear_output\n",
    "\n",
    "\n",
    "print(\"\\n* * * * FIVE DOLLAR FRIDAY * * * * \\nUse coupon code 'ALEXRULES' to get all items for $5. (regular price: $10)\")\n",
    "print(\"\\n\\n\\nWelcome to Julia's shop. \\n\\tEnter the items you would like to purchase. \\n\\tEnter 'Show' to see your current list. \\n\\tEnter 'Delete' to remove a single item. \\n\\tEnter 'Finish' to finish adding items and proceed to check out.\\n\")\n",
    "\n",
    "\n",
    "items = []\n",
    "\n",
    "while True:\n",
    "    \n",
    "    item = input(\"\\nEnter the name of the item you'd like to purchase:    \")\n",
    "    \n",
    "    if item.lower() == \"finish\" or item.lower() == \"quit\":\n",
    "        finish = input(\"\\nThanks for shopping with us today! \\n\\tEnter 'Check Out' if are ready to check out. \\n\\tEnter 'Go Back' If you've changed your mind and want to continue adding items. \\n\\tEnter 'Quit' If you'd like to leave the store.\\n\\t\")\n",
    "        if finish.lower() == 'go back' or finish.lower() == 'goback':\n",
    "            continue\n",
    "        elif finish.lower() == 'check out' or finish.lower() == 'checkout':\n",
    "            coupon = input(\"\\n\\tEnter the coupon code: \")\n",
    "            if coupon.upper() == \"ALEXRULES\" or coupon.upper() == \"ALEX RULES\":\n",
    "                price = 5\n",
    "                print(\"\\n\\nCode applied!\")\n",
    "            else:\n",
    "                price = 10\n",
    "                print(\"\\n\\nCode invalid.\")\n",
    "            print(f\"\\nYour total today is ${len(items) * price}.00\")\n",
    "            reciept = input(\"\\n\\nWould you like a reciept? Enter Yes or No \")\n",
    "            if reciept.lower() == \"yes\":\n",
    "                print(\"\\nRECIEPT FOR JULIA'S STORE:\")\n",
    "                for x in items:\n",
    "                    print(f\"\\t --- {x.title()} --- ${price}.00\")\n",
    "                print(f\"\\t --- TOTAL: --- ${len(items) * price}.00\")\n",
    "                break\n",
    "            else:\n",
    "                break\n",
    "       \n",
    "        elif finish.lower() == 'quit':\n",
    "            print(\"\\nWe hope next time you find something you like!\")\n",
    "            break\n",
    "        else:\n",
    "            print(\"Sorry, we don't understand that command. Please continue shopping\")\n",
    "    \n",
    "    elif item.lower() == \"show\":\n",
    "        print(\"\\n\\tHere's your shopping cart so far:\\n\\t\", end = \"\" )\n",
    "        for x in items: \n",
    "            print(\" -\" + x.title(), end=\"\")\n",
    "        print(\"\\n\")\n",
    "        \n",
    "\n",
    "    elif item.lower() == \"delete\" or item.lower() == \"remove\":\n",
    "        removed_item = input(\"\\n\\tEnter the name of the item you'd like to remove: \")\n",
    "        if removed_item.lower() in items:\n",
    "            items.remove(removed_item.lower())\n",
    "            print(f\"\\tOne {removed_item} removed from cart. Enter 'Delete' to remove more items or enter your next item.\")\n",
    "        else:\n",
    "            print(\"sorry, we didn't understand your input. We are redirecting you back to the store.\")\n",
    "\n",
    "\n",
    "    \n",
    "    else:\n",
    "        quan = input(f\"\\tEnter the quantity of {item}s: \")\n",
    "        if quan == '':\n",
    "            items.append(item.lower())\n",
    "        else: \n",
    "            for n in range(int(quan)):\n",
    "                items.append(item.lower())\n",
    "    \n",
    "\n",
    "        \n",
    "print(\"\\n\\n\\nThank you for visiting our store! Have a great day!\\n\\n\\n\")\n",
    "\n",
    "\n"
   ]
  },
  {
   "cell_type": "markdown",
   "metadata": {},
   "source": [
    "### 2) Create a Module in VS Code and Import It into jupyter notebook <br>\n",
    "<p><b>Module should have the following capabilities:</b><br><br>\n",
    "1) Has a function to calculate the square footage of a house <br>\n",
    "    <b>Reminder of Formula: Length X Width == Area<br>\n",
    "        <hr>\n",
    "2) Has a function to calculate the circumference of a circle <br><br>\n",
    "<b>Program in Jupyter Notebook should take in user input and use imported functions to calculate a circle's circumference or a houses square footage</b>\n",
    "</p>"
   ]
  },
  {
   "cell_type": "code",
   "execution_count": 6,
   "metadata": {},
   "outputs": [
    {
     "name": "stdout",
     "output_type": "stream",
     "text": [
      "How many feet long is your house? 65\n",
      "How many feet wide is your house? 097\n"
     ]
    },
    {
     "ename": "TypeError",
     "evalue": "'str' object is not callable",
     "output_type": "error",
     "traceback": [
      "\u001b[0;31m---------------------------------------------------------------------------\u001b[0m",
      "\u001b[0;31mTypeError\u001b[0m                                 Traceback (most recent call last)",
      "Input \u001b[0;32mIn [6]\u001b[0m, in \u001b[0;36m<cell line: 7>\u001b[0;34m()\u001b[0m\n\u001b[1;32m      4\u001b[0m length \u001b[38;5;241m=\u001b[39m \u001b[38;5;28mint\u001b[39m(\u001b[38;5;28minput\u001b[39m(\u001b[38;5;124m\"\u001b[39m\u001b[38;5;124mHow many feet long is your house? \u001b[39m\u001b[38;5;124m\"\u001b[39m))\n\u001b[1;32m      5\u001b[0m width \u001b[38;5;241m=\u001b[39m \u001b[38;5;28mint\u001b[39m(\u001b[38;5;28minput\u001b[39m(\u001b[38;5;124m\"\u001b[39m\u001b[38;5;124mHow many feet wide is your house? \u001b[39m\u001b[38;5;124m\"\u001b[39m))\n\u001b[0;32m----> 7\u001b[0m \u001b[38;5;28;43mprint\u001b[39;49m\u001b[43m(\u001b[49m\u001b[43ma\u001b[49m\u001b[43m(\u001b[49m\u001b[43mlength\u001b[49m\u001b[43m,\u001b[49m\u001b[43m \u001b[49m\u001b[43mwidth\u001b[49m\u001b[43m)\u001b[49m\u001b[43m)\u001b[49m\n\u001b[1;32m      8\u001b[0m \u001b[38;5;28mprint\u001b[39m(\u001b[38;5;124m\"\u001b[39m\u001b[38;5;130;01m\\n\u001b[39;00m\u001b[38;5;124m\"\u001b[39m)\n\u001b[1;32m     10\u001b[0m radius \u001b[38;5;241m=\u001b[39m \u001b[38;5;28mint\u001b[39m(\u001b[38;5;28minput\u001b[39m(\u001b[38;5;124m\"\u001b[39m\u001b[38;5;124mWhat is the radius of your circle? \u001b[39m\u001b[38;5;124m\"\u001b[39m))\n",
      "\u001b[0;31mTypeError\u001b[0m: 'str' object is not callable"
     ]
    }
   ],
   "source": [
    "from module_1 import get_area as a\n",
    "from module_1 import get_circ as c\n",
    "\n",
    "length = int(input(\"How many feet long is your house? \"))\n",
    "width = int(input(\"How many feet wide is your house? \"))\n",
    "\n",
    "print(a(length, width))\n",
    "print(\"\\n\")\n",
    "\n",
    "radius = int(input(\"What is the radius of your circle? \"))\n",
    "units = input(\"In what units? \")\n",
    "\n",
    "print(c(radius, units))\n",
    "\n"
   ]
  }
 ],
 "metadata": {
  "kernelspec": {
   "display_name": "Python 3 (ipykernel)",
   "language": "python",
   "name": "python3"
  },
  "language_info": {
   "codemirror_mode": {
    "name": "ipython",
    "version": 3
   },
   "file_extension": ".py",
   "mimetype": "text/x-python",
   "name": "python",
   "nbconvert_exporter": "python",
   "pygments_lexer": "ipython3",
   "version": "3.9.12"
  },
  "vscode": {
   "interpreter": {
    "hash": "7e1998ff7f8aa20ada591c520b972326324e5ea05489af9e422744c7c09f6dad"
   }
  }
 },
 "nbformat": 4,
 "nbformat_minor": 2
}
